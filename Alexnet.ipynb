{
 "cells": [
  {
   "cell_type": "code",
   "execution_count": 5,
   "metadata": {},
   "outputs": [],
   "source": [
    "from __future__ import print_function\n",
    "import keras\n",
    "import tensorflow as tf\n",
    "from keras.preprocessing.image import ImageDataGenerator\n",
    "from keras.models import Sequential\n",
    "from keras.layers import Dense, Dropout, Activation, Flatten\n",
    "from keras.layers import Conv2D, MaxPooling2D\n",
    "from keras.optimizers import SGD\n",
    "from tensorflow.keras import datasets, layers, models, optimizers\n",
    "import matplotlib.pyplot as plt\n",
    "import os"
   ]
  },
  {
   "cell_type": "code",
   "execution_count": 6,
   "metadata": {},
   "outputs": [],
   "source": [
    "num_classes = 6\n",
    "img_rows, img_cols = 224, 224\n",
    "batch_size = 32\n",
    "\n",
    "train_data_dir = 'C:\\\\Users\\\\ryana\\\\SuperPalmOil45\\\\dataset_45\\\\training'\n",
    "validation_data_dir = 'C:\\\\Users\\\\ryana\\\\SuperPalmOil45\\\\dataset_45\\\\validation'\n",
    "testing_data_dir = 'C:\\\\Users\\\\ryana\\\\SuperPalmOil45\\\\dataset_45\\\\testing'"
   ]
  },
  {
   "cell_type": "code",
   "execution_count": 7,
   "metadata": {},
   "outputs": [
    {
     "name": "stdout",
     "output_type": "stream",
     "text": [
      "Found 3384 images belonging to 6 classes.\n",
      "Found 584 images belonging to 6 classes.\n",
      "Found 139 images belonging to 6 classes.\n"
     ]
    }
   ],
   "source": [
    "train_datagen = ImageDataGenerator(\n",
    "      rescale=1./255,\n",
    "      horizontal_flip=True,\n",
    "      fill_mode='nearest')\n",
    " \n",
    "validation_datagen = ImageDataGenerator(rescale=1./255)\n",
    "test_datagen = ImageDataGenerator(rescale=1./255)\n",
    " \n",
    "train_generator = train_datagen.flow_from_directory(\n",
    "        train_data_dir,\n",
    "        target_size=(img_rows, img_cols),\n",
    "        batch_size=batch_size,\n",
    "        class_mode='categorical',\n",
    "        shuffle=True)\n",
    " \n",
    "validation_generator = validation_datagen.flow_from_directory(\n",
    "        validation_data_dir,\n",
    "        target_size=(img_rows, img_cols),\n",
    "        batch_size=batch_size,\n",
    "        class_mode='categorical',\n",
    "        shuffle=False)\n",
    "\n",
    "test_generator = test_datagen.flow_from_directory(\n",
    "        testing_data_dir,\n",
    "        target_size=(img_rows, img_cols),\n",
    "        batch_size=batch_size,\n",
    "        class_mode='categorical',\n",
    "        shuffle=False)"
   ]
  },
  {
   "cell_type": "code",
   "execution_count": 8,
   "metadata": {},
   "outputs": [
    {
     "name": "stdout",
     "output_type": "stream",
     "text": [
      "Model: \"sequential\"\n",
      "_________________________________________________________________\n",
      "Layer (type)                 Output Shape              Param #   \n",
      "=================================================================\n",
      "conv2d (Conv2D)              (None, 54, 54, 96)        34944     \n",
      "_________________________________________________________________\n",
      "batch_normalization (BatchNo (None, 54, 54, 96)        384       \n",
      "_________________________________________________________________\n",
      "max_pooling2d (MaxPooling2D) (None, 26, 26, 96)        0         \n",
      "_________________________________________________________________\n",
      "conv2d_1 (Conv2D)            (None, 22, 22, 256)       614656    \n",
      "_________________________________________________________________\n",
      "batch_normalization_1 (Batch (None, 22, 22, 256)       1024      \n",
      "_________________________________________________________________\n",
      "max_pooling2d_1 (MaxPooling2 (None, 10, 10, 256)       0         \n",
      "_________________________________________________________________\n",
      "conv2d_2 (Conv2D)            (None, 8, 8, 384)         885120    \n",
      "_________________________________________________________________\n",
      "batch_normalization_2 (Batch (None, 8, 8, 384)         1536      \n",
      "_________________________________________________________________\n",
      "conv2d_3 (Conv2D)            (None, 8, 8, 384)         147840    \n",
      "_________________________________________________________________\n",
      "batch_normalization_3 (Batch (None, 8, 8, 384)         1536      \n",
      "_________________________________________________________________\n",
      "conv2d_4 (Conv2D)            (None, 8, 8, 256)         98560     \n",
      "_________________________________________________________________\n",
      "batch_normalization_4 (Batch (None, 8, 8, 256)         1024      \n",
      "_________________________________________________________________\n",
      "max_pooling2d_2 (MaxPooling2 (None, 3, 3, 256)         0         \n",
      "_________________________________________________________________\n",
      "flatten (Flatten)            (None, 2304)              0         \n",
      "_________________________________________________________________\n",
      "dense (Dense)                (None, 75)                172875    \n",
      "_________________________________________________________________\n",
      "dropout (Dropout)            (None, 75)                0         \n",
      "_________________________________________________________________\n",
      "dense_1 (Dense)              (None, 50)                3800      \n",
      "_________________________________________________________________\n",
      "dropout_1 (Dropout)          (None, 50)                0         \n",
      "_________________________________________________________________\n",
      "dense_2 (Dense)              (None, 6)                 306       \n",
      "=================================================================\n",
      "Total params: 1,963,605\n",
      "Trainable params: 1,960,853\n",
      "Non-trainable params: 2,752\n",
      "_________________________________________________________________\n",
      "None\n"
     ]
    }
   ],
   "source": [
    "model = Sequential([\n",
    "    tf.keras.layers.Conv2D(filters=96, kernel_size=(11,11), strides=(4,4), activation='relu', input_shape=(224,224,3)),\n",
    "    tf.keras.layers.BatchNormalization(),\n",
    "    tf.keras.layers.MaxPool2D(pool_size=(3,3), strides=(2,2)),\n",
    "    tf.keras.layers.Conv2D(filters=256, kernel_size=(5,5), strides=(1,1), activation='relu'),\n",
    "    tf.keras.layers.BatchNormalization(),\n",
    "    tf.keras.layers.MaxPool2D(pool_size=(3,3), strides=(2,2)),\n",
    "    tf.keras.layers.Conv2D(filters=384, kernel_size=(3,3), strides=(1,1), activation='relu'),\n",
    "    tf.keras.layers.BatchNormalization(),\n",
    "    tf.keras.layers.Conv2D(filters=384, kernel_size=(1,1), strides=(1,1), activation='relu'),\n",
    "    tf.keras.layers.BatchNormalization(),\n",
    "    tf.keras.layers.Conv2D(filters=256, kernel_size=(1,1), strides=(1,1), activation='relu'),\n",
    "    tf.keras.layers.BatchNormalization(),\n",
    "    tf.keras.layers.MaxPool2D(pool_size=(3,3), strides=(2,2)),\n",
    "    Flatten(),\n",
    "    Dense(75, activation='relu'),\n",
    "    tf.keras.layers.Dropout(0.5),\n",
    "    Dense(50, activation='relu'),\n",
    "    tf.keras.layers.Dropout(0.3),\n",
    "    Dense(6, activation='softmax')\n",
    "])\n",
    "\n",
    "print(model.summary())"
   ]
  },
  {
   "cell_type": "code",
   "execution_count": 9,
   "metadata": {},
   "outputs": [],
   "source": [
    "opt = SGD(lr=1e-4)\n",
    "model.compile(optimizer=opt,\n",
    "             loss='categorical_crossentropy',\n",
    "             metrics=['accuracy'])"
   ]
  },
  {
   "cell_type": "code",
   "execution_count": 10,
   "metadata": {},
   "outputs": [],
   "source": [
    "callback=tf.keras.callbacks.EarlyStopping(monitor='accuracy',\n",
    "                                          min_delta=0.01,\n",
    "                                          patience=6,\n",
    "                                          verbose=1,\n",
    "                                          mode='auto',\n",
    "                                          restore_best_weights=True)"
   ]
  },
  {
   "cell_type": "code",
   "execution_count": 11,
   "metadata": {},
   "outputs": [
    {
     "name": "stdout",
     "output_type": "stream",
     "text": [
      "Epoch 1/200\n",
      "106/106 [==============================] - 410s 4s/step - loss: 2.7053 - accuracy: 0.1950 - val_loss: 1.9569 - val_accuracy: 0.1644\n",
      "Epoch 2/200\n",
      "106/106 [==============================] - 382s 4s/step - loss: 2.0044 - accuracy: 0.2293 - val_loss: 2.3177 - val_accuracy: 0.1644\n",
      "Epoch 3/200\n",
      "106/106 [==============================] - 381s 4s/step - loss: 1.8419 - accuracy: 0.2642 - val_loss: 2.2035 - val_accuracy: 0.1644\n",
      "Epoch 4/200\n",
      "106/106 [==============================] - 392s 4s/step - loss: 1.7599 - accuracy: 0.2843 - val_loss: 1.8794 - val_accuracy: 0.2038\n",
      "Epoch 5/200\n",
      "106/106 [==============================] - 464s 4s/step - loss: 1.7026 - accuracy: 0.3014 - val_loss: 1.8315 - val_accuracy: 0.2175\n",
      "Epoch 6/200\n",
      "106/106 [==============================] - 460s 4s/step - loss: 1.6458 - accuracy: 0.3254 - val_loss: 1.6844 - val_accuracy: 0.2757\n",
      "Epoch 7/200\n",
      "106/106 [==============================] - 425s 4s/step - loss: 1.6244 - accuracy: 0.3372 - val_loss: 1.6528 - val_accuracy: 0.3099\n",
      "Epoch 8/200\n",
      "106/106 [==============================] - 380s 4s/step - loss: 1.6132 - accuracy: 0.3336 - val_loss: 1.6493 - val_accuracy: 0.3219\n",
      "Epoch 9/200\n",
      "106/106 [==============================] - 386s 4s/step - loss: 1.5703 - accuracy: 0.3555 - val_loss: 1.6803 - val_accuracy: 0.3356\n",
      "Epoch 10/200\n",
      "106/106 [==============================] - 372s 4s/step - loss: 1.5540 - accuracy: 0.3670 - val_loss: 1.6253 - val_accuracy: 0.3236\n",
      "Epoch 11/200\n",
      "106/106 [==============================] - 372s 4s/step - loss: 1.5441 - accuracy: 0.3771 - val_loss: 1.5919 - val_accuracy: 0.3733\n",
      "Epoch 12/200\n",
      "106/106 [==============================] - 372s 4s/step - loss: 1.5344 - accuracy: 0.3626 - val_loss: 1.5720 - val_accuracy: 0.3510\n",
      "Epoch 13/200\n",
      "106/106 [==============================] - 365s 3s/step - loss: 1.5106 - accuracy: 0.3907 - val_loss: 1.5748 - val_accuracy: 0.3510\n",
      "Epoch 14/200\n",
      "106/106 [==============================] - 374s 4s/step - loss: 1.4811 - accuracy: 0.4022 - val_loss: 1.5421 - val_accuracy: 0.3784\n",
      "Epoch 15/200\n",
      "106/106 [==============================] - 378s 4s/step - loss: 1.4820 - accuracy: 0.4075 - val_loss: 1.5767 - val_accuracy: 0.3579\n",
      "Epoch 16/200\n",
      "106/106 [==============================] - 372s 4s/step - loss: 1.4673 - accuracy: 0.4211 - val_loss: 1.5282 - val_accuracy: 0.3801\n",
      "Epoch 17/200\n",
      "106/106 [==============================] - 399s 4s/step - loss: 1.4369 - accuracy: 0.4273 - val_loss: 1.5820 - val_accuracy: 0.4007\n",
      "Epoch 18/200\n",
      "106/106 [==============================] - 367s 3s/step - loss: 1.4241 - accuracy: 0.4264 - val_loss: 1.5702 - val_accuracy: 0.3750\n",
      "Epoch 19/200\n",
      "106/106 [==============================] - 379s 4s/step - loss: 1.4235 - accuracy: 0.4359 - val_loss: 1.5293 - val_accuracy: 0.3596\n",
      "Epoch 20/200\n",
      "106/106 [==============================] - 355s 3s/step - loss: 1.3988 - accuracy: 0.4309 - val_loss: 1.4853 - val_accuracy: 0.4024\n",
      "Epoch 21/200\n",
      "106/106 [==============================] - 348s 3s/step - loss: 1.3789 - accuracy: 0.4483 - val_loss: 1.4491 - val_accuracy: 0.4212\n",
      "Epoch 22/200\n",
      "106/106 [==============================] - 349s 3s/step - loss: 1.3620 - accuracy: 0.4551 - val_loss: 1.5111 - val_accuracy: 0.3973\n",
      "Epoch 23/200\n",
      "106/106 [==============================] - 348s 3s/step - loss: 1.3667 - accuracy: 0.4545 - val_loss: 1.4589 - val_accuracy: 0.4092\n",
      "Epoch 24/200\n",
      "106/106 [==============================] - 345s 3s/step - loss: 1.3483 - accuracy: 0.4713 - val_loss: 1.4879 - val_accuracy: 0.4914\n",
      "Epoch 25/200\n",
      "106/106 [==============================] - 357s 3s/step - loss: 1.3500 - accuracy: 0.4625 - val_loss: 1.4519 - val_accuracy: 0.4178\n",
      "Epoch 26/200\n",
      "106/106 [==============================] - 351s 3s/step - loss: 1.3232 - accuracy: 0.4802 - val_loss: 1.4662 - val_accuracy: 0.4846\n",
      "Epoch 27/200\n",
      "106/106 [==============================] - 346s 3s/step - loss: 1.2934 - accuracy: 0.4962 - val_loss: 1.4090 - val_accuracy: 0.4606\n",
      "Epoch 28/200\n",
      "106/106 [==============================] - 351s 3s/step - loss: 1.3012 - accuracy: 0.4855 - val_loss: 1.4182 - val_accuracy: 0.4777\n",
      "Epoch 29/200\n",
      "106/106 [==============================] - 341s 3s/step - loss: 1.2802 - accuracy: 0.4941 - val_loss: 1.4939 - val_accuracy: 0.3870\n",
      "Epoch 30/200\n",
      "106/106 [==============================] - 240s 2s/step - loss: 1.2892 - accuracy: 0.4959 - val_loss: 1.4401 - val_accuracy: 0.5068\n",
      "Epoch 31/200\n",
      "106/106 [==============================] - 240s 2s/step - loss: 1.2691 - accuracy: 0.5148 - val_loss: 1.3578 - val_accuracy: 0.4897\n",
      "Epoch 32/200\n",
      "106/106 [==============================] - 238s 2s/step - loss: 1.2546 - accuracy: 0.5098 - val_loss: 1.5199 - val_accuracy: 0.5051\n",
      "Epoch 33/200\n",
      "106/106 [==============================] - 238s 2s/step - loss: 1.2548 - accuracy: 0.5148 - val_loss: 1.3575 - val_accuracy: 0.4401\n",
      "Epoch 34/200\n",
      "106/106 [==============================] - 238s 2s/step - loss: 1.2342 - accuracy: 0.5118 - val_loss: 1.4170 - val_accuracy: 0.4897\n",
      "Epoch 35/200\n",
      "106/106 [==============================] - 239s 2s/step - loss: 1.2403 - accuracy: 0.5136 - val_loss: 1.3327 - val_accuracy: 0.4966\n",
      "Epoch 36/200\n",
      "106/106 [==============================] - 237s 2s/step - loss: 1.2383 - accuracy: 0.5056 - val_loss: 1.3262 - val_accuracy: 0.4863\n",
      "Epoch 37/200\n",
      "106/106 [==============================] - 240s 2s/step - loss: 1.2183 - accuracy: 0.5325 - val_loss: 1.4370 - val_accuracy: 0.4452\n",
      "Epoch 38/200\n",
      "106/106 [==============================] - 239s 2s/step - loss: 1.2057 - accuracy: 0.5293 - val_loss: 1.3024 - val_accuracy: 0.5154\n",
      "Epoch 39/200\n",
      "106/106 [==============================] - 238s 2s/step - loss: 1.1927 - accuracy: 0.5325 - val_loss: 1.3591 - val_accuracy: 0.4572\n",
      "Epoch 40/200\n",
      "106/106 [==============================] - 237s 2s/step - loss: 1.1982 - accuracy: 0.5369 - val_loss: 1.2815 - val_accuracy: 0.4726\n",
      "Epoch 41/200\n",
      "106/106 [==============================] - 238s 2s/step - loss: 1.1827 - accuracy: 0.5313 - val_loss: 1.2643 - val_accuracy: 0.5428\n",
      "Epoch 42/200\n",
      "106/106 [==============================] - 237s 2s/step - loss: 1.1862 - accuracy: 0.5372 - val_loss: 1.2649 - val_accuracy: 0.5171\n",
      "Epoch 43/200\n",
      "106/106 [==============================] - ETA: 0s - loss: 1.1664 - accuracy: 0.5423Restoring model weights from the end of the best epoch.\n",
      "106/106 [==============================] - 239s 2s/step - loss: 1.1664 - accuracy: 0.5423 - val_loss: 1.3877 - val_accuracy: 0.5308\n",
      "Epoch 00043: early stopping\n"
     ]
    }
   ],
   "source": [
    "history = model.fit(x=train_generator, \n",
    "                 validation_data=validation_generator,\n",
    "                 epochs=200,\n",
    "                 verbose=1,\n",
    "                 callbacks=[callback])"
   ]
  },
  {
   "cell_type": "code",
   "execution_count": 12,
   "metadata": {},
   "outputs": [
    {
     "data": {
      "image/png": "[encoded data removed]",
      "text/plain": [
       "<Figure size 432x288 with 1 Axes>"
      ]
     },
     "metadata": {
      "needs_background": "light"
     },
     "output_type": "display_data"
    }
   ],
   "source": [
    "acc = history.history['accuracy']\n",
    "val_acc = history.history['val_accuracy']\n",
    "epochs = range(len(acc))\n",
    "plt.plot(history.history['accuracy'])\n",
    "plt.plot(history.history['val_accuracy'])\n",
    "plt.title('model accuracy')\n",
    "plt.ylabel('accuracy')\n",
    "plt.xlabel('epoch')\n",
    "plt.legend(['train', 'val'], loc='upper left')\n",
    "plt.show()"
   ]
  },
  {
   "cell_type": "code",
   "execution_count": 13,
   "metadata": {},
   "outputs": [
    {
     "data": {
      "image/png": "[encoded data removed]",
      "text/plain": [
       "<Figure size 432x288 with 1 Axes>"
      ]
     },
     "metadata": {
      "needs_background": "light"
     },
     "output_type": "display_data"
    }
   ],
   "source": [
    "acc = history.history['loss']\n",
    "val_loss = history.history['val_loss']\n",
    "epochs = range(len(acc))\n",
    "plt.plot(history.history['loss'])\n",
    "plt.plot(history.history['val_loss'])\n",
    "plt.title('loss')\n",
    "plt.ylabel('loss')\n",
    "plt.xlabel('epoch')\n",
    "plt.legend(['loss', 'val loss'], loc='upper left')\n",
    "plt.show()"
   ]
  },
  {
   "cell_type": "code",
   "execution_count": 14,
   "metadata": {},
   "outputs": [],
   "source": [
    "import numpy as np\n",
    "from sklearn.metrics import classification_report, confusion_matrix, plot_confusion_matrix\n",
    "import seaborn as sns\n",
    "import pandas as pd"
   ]
  },
  {
   "cell_type": "code",
   "execution_count": 15,
   "metadata": {},
   "outputs": [
    {
     "name": "stdout",
     "output_type": "stream",
     "text": [
      "              precision    recall  f1-score   support\n",
      "\n",
      "           0       0.57      0.77      0.65        22\n",
      "           1       0.37      0.30      0.33        23\n",
      "           2       0.39      0.92      0.55        26\n",
      "           3       1.00      0.04      0.08        24\n",
      "           4       0.76      0.83      0.79        23\n",
      "           5       1.00      0.10      0.17        21\n",
      "\n",
      "    accuracy                           0.50       139\n",
      "   macro avg       0.68      0.49      0.43       139\n",
      "weighted avg       0.67      0.50      0.43       139\n",
      "\n"
     ]
    }
   ],
   "source": [
    "# ambil label true kelas di data training\n",
    "y_true = test_generator.classes\n",
    "\n",
    "# ambil label hasil prediksi (index maksimum, secara kolom)\n",
    "y_pred = np.argmax(model.predict(test_generator), axis=-1)\n",
    "\n",
    "# performa model di \n",
    "print(classification_report(y_true, y_pred))"
   ]
  },
  {
   "cell_type": "code",
   "execution_count": 16,
   "metadata": {},
   "outputs": [
    {
     "data": {
      "text/html": [
       "<div>\n",
       "<style scoped>\n",
       "    .dataframe tbody tr th:only-of-type {\n",
       "        vertical-align: middle;\n",
       "    }\n",
       "\n",
       "    .dataframe tbody tr th {\n",
       "        vertical-align: top;\n",
       "    }\n",
       "\n",
       "    .dataframe thead th {\n",
       "        text-align: right;\n",
       "    }\n",
       "</style>\n",
       "<table border=\"1\" class=\"dataframe\">\n",
       "  <thead>\n",
       "    <tr style=\"text-align: right;\">\n",
       "      <th>Predicted</th>\n",
       "      <th>0</th>\n",
       "      <th>1</th>\n",
       "      <th>2</th>\n",
       "      <th>3</th>\n",
       "      <th>4</th>\n",
       "      <th>5</th>\n",
       "    </tr>\n",
       "    <tr>\n",
       "      <th>Actual</th>\n",
       "      <th></th>\n",
       "      <th></th>\n",
       "      <th></th>\n",
       "      <th></th>\n",
       "      <th></th>\n",
       "      <th></th>\n",
       "    </tr>\n",
       "  </thead>\n",
       "  <tbody>\n",
       "    <tr>\n",
       "      <th>0</th>\n",
       "      <td>17</td>\n",
       "      <td>2</td>\n",
       "      <td>0</td>\n",
       "      <td>0</td>\n",
       "      <td>3</td>\n",
       "      <td>0</td>\n",
       "    </tr>\n",
       "    <tr>\n",
       "      <th>1</th>\n",
       "      <td>2</td>\n",
       "      <td>7</td>\n",
       "      <td>14</td>\n",
       "      <td>0</td>\n",
       "      <td>0</td>\n",
       "      <td>0</td>\n",
       "    </tr>\n",
       "    <tr>\n",
       "      <th>2</th>\n",
       "      <td>0</td>\n",
       "      <td>2</td>\n",
       "      <td>24</td>\n",
       "      <td>0</td>\n",
       "      <td>0</td>\n",
       "      <td>0</td>\n",
       "    </tr>\n",
       "    <tr>\n",
       "      <th>3</th>\n",
       "      <td>1</td>\n",
       "      <td>1</td>\n",
       "      <td>20</td>\n",
       "      <td>1</td>\n",
       "      <td>1</td>\n",
       "      <td>0</td>\n",
       "    </tr>\n",
       "    <tr>\n",
       "      <th>4</th>\n",
       "      <td>3</td>\n",
       "      <td>0</td>\n",
       "      <td>1</td>\n",
       "      <td>0</td>\n",
       "      <td>19</td>\n",
       "      <td>0</td>\n",
       "    </tr>\n",
       "    <tr>\n",
       "      <th>5</th>\n",
       "      <td>7</td>\n",
       "      <td>7</td>\n",
       "      <td>3</td>\n",
       "      <td>0</td>\n",
       "      <td>2</td>\n",
       "      <td>2</td>\n",
       "    </tr>\n",
       "  </tbody>\n",
       "</table>\n",
       "</div>"
      ],
      "text/plain": [
       "Predicted   0  1   2  3   4  5\n",
       "Actual                        \n",
       "0          17  2   0  0   3  0\n",
       "1           2  7  14  0   0  0\n",
       "2           0  2  24  0   0  0\n",
       "3           1  1  20  1   1  0\n",
       "4           3  0   1  0  19  0\n",
       "5           7  7   3  0   2  2"
      ]
     },
     "execution_count": 16,
     "metadata": {},
     "output_type": "execute_result"
    }
   ],
   "source": [
    "cm = pd.DataFrame(confusion_matrix(y_true, y_pred)).rename_axis('Actual').rename_axis('Predicted', axis=1)\n",
    "cm"
   ]
  },
  {
   "cell_type": "code",
   "execution_count": 17,
   "metadata": {},
   "outputs": [
    {
     "data": {
      "text/plain": [
       "<matplotlib.axes._subplots.AxesSubplot at 0x2bf00934880>"
      ]
     },
     "execution_count": 17,
     "metadata": {},
     "output_type": "execute_result"
    },
    {
     "data": {
      "image/png": "[encoded data removed]",
      "text/plain": [
       "<Figure size 432x288 with 2 Axes>"
      ]
     },
     "metadata": {
      "needs_background": "light"
     },
     "output_type": "display_data"
    }
   ],
   "source": [
    "sns.heatmap(cm, annot=True, fmt=\".1%\")"
   ]
  },
  {
   "cell_type": "code",
   "execution_count": null,
   "metadata": {},
   "outputs": [],
   "source": []
  }
 ],
 "metadata": {
  "kernelspec": {
   "display_name": "Python 3",
   "language": "python",
   "name": "python3"
  },
  "language_info": {
   "codemirror_mode": {
    "name": "ipython",
    "version": 3
   },
   "file_extension": ".py",
   "mimetype": "text/x-python",
   "name": "python",
   "nbconvert_exporter": "python",
   "pygments_lexer": "ipython3",
   "version": "3.8.3"
  }
 },
 "nbformat": 4,
 "nbformat_minor": 4
}

{
 "cells": [
  {
   "cell_type": "code",
   "execution_count": 1,
   "metadata": {},
   "outputs": [],
   "source": [
    "from __future__ import print_function\n",
    "import keras\n",
    "import tensorflow as tf\n",
    "from keras.preprocessing.image import ImageDataGenerator\n",
    "from keras.models import Sequential\n",
    "from keras.layers import Dense, Dropout, Activation, Flatten\n",
    "from keras.layers import Conv2D, MaxPooling2D\n",
    "from keras.optimizers import SGD, Adam\n",
    "from tensorflow.keras import datasets, layers, models, optimizers\n",
    "import matplotlib.pyplot as plt\n",
    "import os"
   ]
  },
  {
   "cell_type": "code",
   "execution_count": 2,
   "metadata": {},
   "outputs": [],
   "source": [
    "num_classes = 6\n",
    "img_rows, img_cols = 224, 224\n",
    "batch_size = 32\n",
    "\n",
    "train_data_dir = 'C:\\\\Users\\\\ryana\\\\SuperPalmOil45\\\\dataset_45\\\\training'\n",
    "validation_data_dir = 'C:\\\\Users\\\\ryana\\\\SuperPalmOil45\\\\dataset_45\\\\validation'\n",
    "testing_data_dir = 'C:\\\\Users\\\\ryana\\\\SuperPalmOil45\\\\dataset_45\\\\testing'"
   ]
  },
  {
   "cell_type": "code",
   "execution_count": 3,
   "metadata": {},
   "outputs": [
    {
     "name": "stdout",
     "output_type": "stream",
     "text": [
      "Found 3384 images belonging to 6 classes.\n",
      "Found 584 images belonging to 6 classes.\n",
      "Found 139 images belonging to 6 classes.\n"
     ]
    }
   ],
   "source": [
    "train_datagen = ImageDataGenerator(\n",
    "      rescale=1./255,\n",
    "      horizontal_flip=True,\n",
    "      fill_mode='nearest')\n",
    " \n",
    "validation_datagen = ImageDataGenerator(rescale=1./255)\n",
    "test_datagen = ImageDataGenerator(rescale=1./255)\n",
    " \n",
    "train_generator = train_datagen.flow_from_directory(\n",
    "        train_data_dir,\n",
    "        target_size=(img_rows, img_cols),\n",
    "        batch_size=batch_size,\n",
    "        class_mode='categorical',\n",
    "        shuffle=True)\n",
    " \n",
    "validation_generator = validation_datagen.flow_from_directory(\n",
    "        validation_data_dir,\n",
    "        target_size=(img_rows, img_cols),\n",
    "        batch_size=batch_size,\n",
    "        class_mode='categorical',\n",
    "        shuffle=False)\n",
    "\n",
    "test_generator = test_datagen.flow_from_directory(\n",
    "        testing_data_dir,\n",
    "        target_size=(img_rows, img_cols),\n",
    "        batch_size=batch_size,\n",
    "        class_mode='categorical',\n",
    "        shuffle=False)"
   ]
  },
  {
   "cell_type": "code",
   "execution_count": 4,
   "metadata": {},
   "outputs": [
    {
     "name": "stdout",
     "output_type": "stream",
     "text": [
      "Model: \"sequential\"\n",
      "_________________________________________________________________\n",
      "Layer (type)                 Output Shape              Param #   \n",
      "=================================================================\n",
      "conv2d (Conv2D)              (None, 224, 224, 32)      896       \n",
      "_________________________________________________________________\n",
      "activation (Activation)      (None, 224, 224, 32)      0         \n",
      "_________________________________________________________________\n",
      "conv2d_1 (Conv2D)            (None, 222, 222, 32)      9248      \n",
      "_________________________________________________________________\n",
      "activation_1 (Activation)    (None, 222, 222, 32)      0         \n",
      "_________________________________________________________________\n",
      "max_pooling2d (MaxPooling2D) (None, 111, 111, 32)      0         \n",
      "_________________________________________________________________\n",
      "dropout (Dropout)            (None, 111, 111, 32)      0         \n",
      "_________________________________________________________________\n",
      "conv2d_2 (Conv2D)            (None, 111, 111, 64)      18496     \n",
      "_________________________________________________________________\n",
      "activation_2 (Activation)    (None, 111, 111, 64)      0         \n",
      "_________________________________________________________________\n",
      "conv2d_3 (Conv2D)            (None, 109, 109, 64)      36928     \n",
      "_________________________________________________________________\n",
      "activation_3 (Activation)    (None, 109, 109, 64)      0         \n",
      "_________________________________________________________________\n",
      "max_pooling2d_1 (MaxPooling2 (None, 54, 54, 64)        0         \n",
      "_________________________________________________________________\n",
      "dropout_1 (Dropout)          (None, 54, 54, 64)        0         \n",
      "_________________________________________________________________\n",
      "flatten (Flatten)            (None, 186624)            0         \n",
      "_________________________________________________________________\n",
      "dense (Dense)                (None, 256)               47776000  \n",
      "_________________________________________________________________\n",
      "activation_4 (Activation)    (None, 256)               0         \n",
      "_________________________________________________________________\n",
      "dropout_2 (Dropout)          (None, 256)               0         \n",
      "_________________________________________________________________\n",
      "dense_1 (Dense)              (None, 6)                 1542      \n",
      "_________________________________________________________________\n",
      "activation_5 (Activation)    (None, 6)                 0         \n",
      "=================================================================\n",
      "Total params: 47,843,110\n",
      "Trainable params: 47,843,110\n",
      "Non-trainable params: 0\n",
      "_________________________________________________________________\n",
      "None\n"
     ]
    }
   ],
   "source": [
    "model = Sequential()\n",
    "\n",
    "# Padding = 'same'  results in padding the input such that\n",
    "# the output has the same length as the original input\n",
    "model.add(Conv2D(32, (3, 3), padding='same',\n",
    "                 input_shape= (224, 224, 3)))\n",
    "model.add(Activation('relu'))\n",
    "\n",
    "model.add(Conv2D(32, (3, 3)))\n",
    "model.add(Activation('relu'))\n",
    "\n",
    "model.add(MaxPooling2D(pool_size=(2, 2)))\n",
    "model.add(Dropout(0.25))\n",
    "\n",
    "model.add(Conv2D(64, (3, 3), padding='same'))\n",
    "model.add(Activation('relu'))\n",
    "\n",
    "model.add(Conv2D(64, (3, 3)))\n",
    "model.add(Activation('relu'))\n",
    "\n",
    "model.add(MaxPooling2D(pool_size=(2, 2)))\n",
    "model.add(Dropout(0.25))\n",
    "\n",
    "model.add(Flatten())\n",
    "model.add(Dense(256))\n",
    "model.add(Activation('relu'))\n",
    "model.add(Dropout(0.5))\n",
    "model.add(Dense(num_classes))\n",
    "model.add(Activation('softmax'))\n",
    "\n",
    "\n",
    "print(model.summary())"
   ]
  },
  {
   "cell_type": "code",
   "execution_count": 5,
   "metadata": {},
   "outputs": [],
   "source": [
    "opt = SGD(lr=1e-2)\n",
    "model.compile(optimizer=opt,\n",
    "             loss='categorical_crossentropy',\n",
    "             metrics=['accuracy'])"
   ]
  },
  {
   "cell_type": "code",
   "execution_count": 6,
   "metadata": {},
   "outputs": [],
   "source": [
    "callback=tf.keras.callbacks.EarlyStopping(monitor='accuracy',\n",
    "                                          min_delta=0.01,\n",
    "                                          patience=6,\n",
    "                                          verbose=1,\n",
    "                                          mode='auto',\n",
    "                                          restore_best_weights=True)"
   ]
  },
  {
   "cell_type": "code",
   "execution_count": 7,
   "metadata": {},
   "outputs": [
    {
     "name": "stdout",
     "output_type": "stream",
     "text": [
      "Epoch 1/200\n",
      "106/106 [==============================] - 430s 4s/step - loss: 1.7508 - accuracy: 0.2290 - val_loss: 1.7648 - val_accuracy: 0.3082\n",
      "Epoch 2/200\n",
      "106/106 [==============================] - 454s 4s/step - loss: 1.6595 - accuracy: 0.3233 - val_loss: 1.7414 - val_accuracy: 0.2551\n",
      "Epoch 3/200\n",
      "106/106 [==============================] - 449s 4s/step - loss: 1.5474 - accuracy: 0.3768 - val_loss: 1.5656 - val_accuracy: 0.3630\n",
      "Epoch 4/200\n",
      "106/106 [==============================] - 442s 4s/step - loss: 1.3875 - accuracy: 0.4613 - val_loss: 1.4229 - val_accuracy: 0.3682\n",
      "Epoch 5/200\n",
      "106/106 [==============================] - 442s 4s/step - loss: 1.2535 - accuracy: 0.5251 - val_loss: 1.3009 - val_accuracy: 0.4503\n",
      "Epoch 6/200\n",
      "106/106 [==============================] - 443s 4s/step - loss: 1.1202 - accuracy: 0.5783 - val_loss: 1.4905 - val_accuracy: 0.3784\n",
      "Epoch 7/200\n",
      "106/106 [==============================] - 441s 4s/step - loss: 1.0259 - accuracy: 0.6155 - val_loss: 1.3232 - val_accuracy: 0.4247\n",
      "Epoch 8/200\n",
      "106/106 [==============================] - 442s 4s/step - loss: 0.9562 - accuracy: 0.6486 - val_loss: 1.0938 - val_accuracy: 0.5223\n",
      "Epoch 9/200\n",
      "106/106 [==============================] - 442s 4s/step - loss: 0.9225 - accuracy: 0.6587 - val_loss: 1.0985 - val_accuracy: 0.5531\n",
      "Epoch 10/200\n",
      "106/106 [==============================] - 451s 4s/step - loss: 0.8449 - accuracy: 0.6838 - val_loss: 1.1847 - val_accuracy: 0.5497\n",
      "Epoch 11/200\n",
      "106/106 [==============================] - 452s 4s/step - loss: 0.8090 - accuracy: 0.7048 - val_loss: 1.8918 - val_accuracy: 0.3801\n",
      "Epoch 12/200\n",
      "106/106 [==============================] - 467s 4s/step - loss: 0.8074 - accuracy: 0.6921 - val_loss: 1.2845 - val_accuracy: 0.5017\n",
      "Epoch 13/200\n",
      "106/106 [==============================] - 517s 5s/step - loss: 0.6695 - accuracy: 0.7423 - val_loss: 1.0771 - val_accuracy: 0.5565\n",
      "Epoch 14/200\n",
      "106/106 [==============================] - 514s 5s/step - loss: 0.6304 - accuracy: 0.7595 - val_loss: 1.0950 - val_accuracy: 0.5925\n",
      "Epoch 15/200\n",
      "106/106 [==============================] - 513s 5s/step - loss: 0.5722 - accuracy: 0.7751 - val_loss: 1.3617 - val_accuracy: 0.5531\n",
      "Epoch 16/200\n",
      "106/106 [==============================] - 501s 5s/step - loss: 0.5374 - accuracy: 0.8041 - val_loss: 1.2002 - val_accuracy: 0.5479\n",
      "Epoch 17/200\n",
      "106/106 [==============================] - 500s 5s/step - loss: 0.5258 - accuracy: 0.8047 - val_loss: 1.2297 - val_accuracy: 0.5291\n",
      "Epoch 18/200\n",
      "106/106 [==============================] - 493s 5s/step - loss: 0.4455 - accuracy: 0.8348 - val_loss: 1.1715 - val_accuracy: 0.6301\n",
      "Epoch 19/200\n",
      "106/106 [==============================] - 510s 5s/step - loss: 0.4433 - accuracy: 0.8401 - val_loss: 1.6807 - val_accuracy: 0.5154\n",
      "Epoch 20/200\n",
      "106/106 [==============================] - 461s 4s/step - loss: 0.3739 - accuracy: 0.8587 - val_loss: 1.3654 - val_accuracy: 0.5805\n",
      "Epoch 21/200\n",
      "106/106 [==============================] - 453s 4s/step - loss: 0.3692 - accuracy: 0.8614 - val_loss: 1.6340 - val_accuracy: 0.5479\n",
      "Epoch 22/200\n",
      "106/106 [==============================] - 443s 4s/step - loss: 0.3639 - accuracy: 0.8738 - val_loss: 1.3203 - val_accuracy: 0.5120\n",
      "Epoch 23/200\n",
      "106/106 [==============================] - 470s 4s/step - loss: 0.3554 - accuracy: 0.8735 - val_loss: 1.6144 - val_accuracy: 0.5377\n",
      "Epoch 24/200\n",
      "106/106 [==============================] - 488s 5s/step - loss: 0.2532 - accuracy: 0.9099 - val_loss: 1.6506 - val_accuracy: 0.5908\n",
      "Epoch 25/200\n",
      "106/106 [==============================] - 451s 4s/step - loss: 0.2661 - accuracy: 0.9078 - val_loss: 1.4178 - val_accuracy: 0.5634\n",
      "Epoch 26/200\n",
      "106/106 [==============================] - 444s 4s/step - loss: 0.2566 - accuracy: 0.9063 - val_loss: 1.3288 - val_accuracy: 0.6130\n",
      "Epoch 27/200\n",
      "106/106 [==============================] - 441s 4s/step - loss: 0.3251 - accuracy: 0.9019 - val_loss: 1.8080 - val_accuracy: 0.2380\n",
      "Epoch 28/200\n",
      "106/106 [==============================] - 452s 4s/step - loss: 1.1162 - accuracy: 0.5759 - val_loss: 1.4711 - val_accuracy: 0.4589\n",
      "Epoch 29/200\n",
      "106/106 [==============================] - 451s 4s/step - loss: 0.6504 - accuracy: 0.7621 - val_loss: 1.2991 - val_accuracy: 0.5171\n",
      "Epoch 30/200\n",
      "106/106 [==============================] - ETA: 0s - loss: 0.4154 - accuracy: 0.8511Restoring model weights from the end of the best epoch.\n",
      "106/106 [==============================] - 450s 4s/step - loss: 0.4154 - accuracy: 0.8511 - val_loss: 1.3061 - val_accuracy: 0.5514\n",
      "Epoch 00030: early stopping\n"
     ]
    }
   ],
   "source": [
    "history = model.fit(x=train_generator, \n",
    "                 validation_data=validation_generator,\n",
    "                 epochs=200,\n",
    "                 verbose=1,\n",
    "                 callbacks=[callback])"
   ]
  },
  {
   "cell_type": "code",
   "execution_count": 8,
   "metadata": {},
   "outputs": [
    {
     "data": {
      "image/png": "[encoded data removed]",
      "text/plain": [
       "<Figure size 432x288 with 1 Axes>"
      ]
     },
     "metadata": {
      "needs_background": "light"
     },
     "output_type": "display_data"
    }
   ],
   "source": [
    "acc = history.history['accuracy']\n",
    "val_acc = history.history['val_accuracy']\n",
    "epochs = range(len(acc))\n",
    "plt.plot(history.history['accuracy'])\n",
    "plt.plot(history.history['val_accuracy'])\n",
    "plt.title('model accuracy')\n",
    "plt.ylabel('accuracy')\n",
    "plt.xlabel('epoch')\n",
    "plt.legend(['train', 'val'], loc='upper left')\n",
    "plt.show()"
   ]
  },
  {
   "cell_type": "code",
   "execution_count": 10,
   "metadata": {},
   "outputs": [
    {
     "data": {
      "image/png": "[encoded data removed]",
      "text/plain": [
       "<Figure size 432x288 with 1 Axes>"
      ]
     },
     "metadata": {
      "needs_background": "light"
     },
     "output_type": "display_data"
    }
   ],
   "source": [
    "acc = history.history['loss']\n",
    "val_loss = history.history['val_loss']\n",
    "epochs = range(len(acc))\n",
    "plt.plot(history.history['loss'])\n",
    "plt.plot(history.history['val_loss'])\n",
    "plt.title('loss')\n",
    "plt.ylabel('loss')\n",
    "plt.xlabel('epoch')\n",
    "plt.legend(['loss', 'val loss'], loc='upper left')\n",
    "plt.show()"
   ]
  },
  {
   "cell_type": "code",
   "execution_count": 11,
   "metadata": {},
   "outputs": [],
   "source": [
    "import numpy as np\n",
    "from sklearn.metrics import classification_report, confusion_matrix, plot_confusion_matrix\n",
    "import seaborn as sns\n",
    "import pandas as pd"
   ]
  },
  {
   "cell_type": "code",
   "execution_count": 12,
   "metadata": {},
   "outputs": [
    {
     "name": "stdout",
     "output_type": "stream",
     "text": [
      "              precision    recall  f1-score   support\n",
      "\n",
      "           0       0.72      0.95      0.82        22\n",
      "           1       0.53      0.74      0.62        23\n",
      "           2       0.64      0.88      0.74        26\n",
      "           3       1.00      0.25      0.40        24\n",
      "           4       0.65      0.57      0.60        23\n",
      "           5       0.31      0.24      0.27        21\n",
      "\n",
      "    accuracy                           0.61       139\n",
      "   macro avg       0.64      0.61      0.58       139\n",
      "weighted avg       0.65      0.61      0.58       139\n",
      "\n"
     ]
    }
   ],
   "source": [
    "# ambil label true kelas di data training\n",
    "y_true = test_generator.classes\n",
    "\n",
    "# ambil label hasil prediksi (index maksimum, secara kolom)\n",
    "y_pred = np.argmax(model.predict(test_generator), axis=-1)\n",
    "\n",
    "# performa model di \n",
    "print(classification_report(y_true, y_pred))"
   ]
  },
  {
   "cell_type": "code",
   "execution_count": 13,
   "metadata": {},
   "outputs": [
    {
     "data": {
      "text/html": [
       "<div>\n",
       "<style scoped>\n",
       "    .dataframe tbody tr th:only-of-type {\n",
       "        vertical-align: middle;\n",
       "    }\n",
       "\n",
       "    .dataframe tbody tr th {\n",
       "        vertical-align: top;\n",
       "    }\n",
       "\n",
       "    .dataframe thead th {\n",
       "        text-align: right;\n",
       "    }\n",
       "</style>\n",
       "<table border=\"1\" class=\"dataframe\">\n",
       "  <thead>\n",
       "    <tr style=\"text-align: right;\">\n",
       "      <th>Predicted</th>\n",
       "      <th>0</th>\n",
       "      <th>1</th>\n",
       "      <th>2</th>\n",
       "      <th>3</th>\n",
       "      <th>4</th>\n",
       "      <th>5</th>\n",
       "    </tr>\n",
       "    <tr>\n",
       "      <th>Actual</th>\n",
       "      <th></th>\n",
       "      <th></th>\n",
       "      <th></th>\n",
       "      <th></th>\n",
       "      <th></th>\n",
       "      <th></th>\n",
       "    </tr>\n",
       "  </thead>\n",
       "  <tbody>\n",
       "    <tr>\n",
       "      <th>0</th>\n",
       "      <td>21</td>\n",
       "      <td>1</td>\n",
       "      <td>0</td>\n",
       "      <td>0</td>\n",
       "      <td>0</td>\n",
       "      <td>0</td>\n",
       "    </tr>\n",
       "    <tr>\n",
       "      <th>1</th>\n",
       "      <td>1</td>\n",
       "      <td>17</td>\n",
       "      <td>1</td>\n",
       "      <td>0</td>\n",
       "      <td>0</td>\n",
       "      <td>4</td>\n",
       "    </tr>\n",
       "    <tr>\n",
       "      <th>2</th>\n",
       "      <td>0</td>\n",
       "      <td>2</td>\n",
       "      <td>23</td>\n",
       "      <td>0</td>\n",
       "      <td>0</td>\n",
       "      <td>1</td>\n",
       "    </tr>\n",
       "    <tr>\n",
       "      <th>3</th>\n",
       "      <td>0</td>\n",
       "      <td>3</td>\n",
       "      <td>9</td>\n",
       "      <td>6</td>\n",
       "      <td>6</td>\n",
       "      <td>0</td>\n",
       "    </tr>\n",
       "    <tr>\n",
       "      <th>4</th>\n",
       "      <td>2</td>\n",
       "      <td>1</td>\n",
       "      <td>1</td>\n",
       "      <td>0</td>\n",
       "      <td>13</td>\n",
       "      <td>6</td>\n",
       "    </tr>\n",
       "    <tr>\n",
       "      <th>5</th>\n",
       "      <td>5</td>\n",
       "      <td>8</td>\n",
       "      <td>2</td>\n",
       "      <td>0</td>\n",
       "      <td>1</td>\n",
       "      <td>5</td>\n",
       "    </tr>\n",
       "  </tbody>\n",
       "</table>\n",
       "</div>"
      ],
      "text/plain": [
       "Predicted   0   1   2  3   4  5\n",
       "Actual                         \n",
       "0          21   1   0  0   0  0\n",
       "1           1  17   1  0   0  4\n",
       "2           0   2  23  0   0  1\n",
       "3           0   3   9  6   6  0\n",
       "4           2   1   1  0  13  6\n",
       "5           5   8   2  0   1  5"
      ]
     },
     "execution_count": 13,
     "metadata": {},
     "output_type": "execute_result"
    }
   ],
   "source": [
    "cm = pd.DataFrame(confusion_matrix(y_true, y_pred)).rename_axis('Actual').rename_axis('Predicted', axis=1)\n",
    "cm"
   ]
  },
  {
   "cell_type": "code",
   "execution_count": 14,
   "metadata": {},
   "outputs": [
    {
     "data": {
      "text/plain": [
       "<matplotlib.axes._subplots.AxesSubplot at 0x21322ac9730>"
      ]
     },
     "execution_count": 14,
     "metadata": {},
     "output_type": "execute_result"
    },
    {
     "data": {
      "image/png": "[encoded data removed]",
      "text/plain": [
       "<Figure size 432x288 with 2 Axes>"
      ]
     },
     "metadata": {
      "needs_background": "light"
     },
     "output_type": "display_data"
    }
   ],
   "source": [
    "sns.heatmap(cm, annot=True, fmt=\".1%\")"
   ]
  },
  {
   "cell_type": "code",
   "execution_count": null,
   "metadata": {},
   "outputs": [],
   "source": []
  }
 ],
 "metadata": {
  "kernelspec": {
   "display_name": "Python 3",
   "language": "python",
   "name": "python3"
  },
  "language_info": {
   "codemirror_mode": {
    "name": "ipython",
    "version": 3
   },
   "file_extension": ".py",
   "mimetype": "text/x-python",
   "name": "python",
   "nbconvert_exporter": "python",
   "pygments_lexer": "ipython3",
   "version": "3.8.3"
  }
 },
 "nbformat": 4,
 "nbformat_minor": 4
}

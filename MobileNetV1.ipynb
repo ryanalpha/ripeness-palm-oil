{
 "cells": [
  {
   "cell_type": "code",
   "execution_count": 1,
   "metadata": {},
   "outputs": [],
   "source": [
    "import keras\n",
    "from keras import backend as K\n",
    "from keras.layers.core import Dense, Activation\n",
    "from keras.optimizers import Adam\n",
    "from keras.metrics import categorical_crossentropy\n",
    "from keras.preprocessing.image import ImageDataGenerator\n",
    "from keras.preprocessing import image\n",
    "from keras.models import Model\n",
    "from keras.applications import imagenet_utils\n",
    "from keras.layers import Dense,GlobalAveragePooling2D\n",
    "from keras.applications import MobileNet\n",
    "from keras.applications.mobilenet import preprocess_input\n",
    "import numpy as np\n",
    "from IPython.display import Image\n",
    "from keras.optimizers import SGD\n",
    "import matplotlib.pyplot as plt"
   ]
  },
  {
   "cell_type": "code",
   "execution_count": 2,
   "metadata": {},
   "outputs": [],
   "source": [
    "num_classes = 6\n",
    "img_rows, img_cols = 224, 224\n",
    "batch_size = 32\n",
    "\n",
    "train_data_dir = 'C:\\\\Users\\\\ryana\\\\SuperPalmOil45\\\\dataset_45\\\\training'\n",
    "validation_data_dir = 'C:\\\\Users\\\\ryana\\\\SuperPalmOil45\\\\dataset_45\\\\validation'\n",
    "testing_data_dir = 'C:\\\\Users\\\\ryana\\\\SuperPalmOil45\\\\dataset_45\\\\testing'"
   ]
  },
  {
   "cell_type": "code",
   "execution_count": 3,
   "metadata": {},
   "outputs": [
    {
     "name": "stdout",
     "output_type": "stream",
     "text": [
      "Found 3384 images belonging to 6 classes.\n",
      "Found 584 images belonging to 6 classes.\n",
      "Found 139 images belonging to 6 classes.\n"
     ]
    }
   ],
   "source": [
    "train_datagen = ImageDataGenerator(\n",
    "      rescale=1./255,\n",
    "      horizontal_flip=True,\n",
    "      fill_mode='nearest')\n",
    " \n",
    "validation_datagen = ImageDataGenerator(rescale=1./255)\n",
    "test_datagen = ImageDataGenerator(rescale=1./255)\n",
    " \n",
    "train_generator = train_datagen.flow_from_directory(\n",
    "        train_data_dir,\n",
    "        target_size=(img_rows, img_cols),\n",
    "        batch_size=batch_size,\n",
    "        class_mode='categorical',\n",
    "        shuffle=True)\n",
    " \n",
    "validation_generator = validation_datagen.flow_from_directory(\n",
    "        validation_data_dir,\n",
    "        target_size=(img_rows, img_cols),\n",
    "        batch_size=batch_size,\n",
    "        class_mode='categorical',\n",
    "        shuffle=False)\n",
    "\n",
    "test_generator = test_datagen.flow_from_directory(\n",
    "        testing_data_dir,\n",
    "        target_size=(img_rows, img_cols),\n",
    "        batch_size=batch_size,\n",
    "        class_mode='categorical',\n",
    "        shuffle=False)"
   ]
  },
  {
   "cell_type": "code",
   "execution_count": 4,
   "metadata": {},
   "outputs": [],
   "source": [
    "mobile = keras.applications.mobilenet.MobileNet()"
   ]
  },
  {
   "cell_type": "code",
   "execution_count": 5,
   "metadata": {},
   "outputs": [
    {
     "name": "stdout",
     "output_type": "stream",
     "text": [
      "WARNING:tensorflow:`input_shape` is undefined or non-square, or `rows` is not in [128, 160, 192, 224]. Weights for input shape (224, 224) will be loaded as the default.\n"
     ]
    }
   ],
   "source": [
    "base_model=MobileNet(weights='imagenet',include_top=False) #imports the mobilenet model and discards the last 1000 neuron layer.\n",
    "\n",
    "x=base_model.output\n",
    "x=GlobalAveragePooling2D()(x)\n",
    "x=Dense(1024,activation='relu')(x) #we add dense layers so that the model can learn more complex functions and classify for better results.\n",
    "x=Dense(1024,activation='relu')(x) #dense layer 2\n",
    "x=Dense(512,activation='relu')(x) #dense layer 3\n",
    "preds=Dense(6,activation='softmax')(x) #final layer with softmax activation"
   ]
  },
  {
   "cell_type": "code",
   "execution_count": 6,
   "metadata": {},
   "outputs": [],
   "source": [
    "model=Model(inputs=base_model.input,outputs=preds)"
   ]
  },
  {
   "cell_type": "code",
   "execution_count": 7,
   "metadata": {},
   "outputs": [
    {
     "name": "stdout",
     "output_type": "stream",
     "text": [
      "0 input_2\n",
      "1 conv1_pad\n",
      "2 conv1\n",
      "3 conv1_bn\n",
      "4 conv1_relu\n",
      "5 conv_dw_1\n",
      "6 conv_dw_1_bn\n",
      "7 conv_dw_1_relu\n",
      "8 conv_pw_1\n",
      "9 conv_pw_1_bn\n",
      "10 conv_pw_1_relu\n",
      "11 conv_pad_2\n",
      "12 conv_dw_2\n",
      "13 conv_dw_2_bn\n",
      "14 conv_dw_2_relu\n",
      "15 conv_pw_2\n",
      "16 conv_pw_2_bn\n",
      "17 conv_pw_2_relu\n",
      "18 conv_dw_3\n",
      "19 conv_dw_3_bn\n",
      "20 conv_dw_3_relu\n",
      "21 conv_pw_3\n",
      "22 conv_pw_3_bn\n",
      "23 conv_pw_3_relu\n",
      "24 conv_pad_4\n",
      "25 conv_dw_4\n",
      "26 conv_dw_4_bn\n",
      "27 conv_dw_4_relu\n",
      "28 conv_pw_4\n",
      "29 conv_pw_4_bn\n",
      "30 conv_pw_4_relu\n",
      "31 conv_dw_5\n",
      "32 conv_dw_5_bn\n",
      "33 conv_dw_5_relu\n",
      "34 conv_pw_5\n",
      "35 conv_pw_5_bn\n",
      "36 conv_pw_5_relu\n",
      "37 conv_pad_6\n",
      "38 conv_dw_6\n",
      "39 conv_dw_6_bn\n",
      "40 conv_dw_6_relu\n",
      "41 conv_pw_6\n",
      "42 conv_pw_6_bn\n",
      "43 conv_pw_6_relu\n",
      "44 conv_dw_7\n",
      "45 conv_dw_7_bn\n",
      "46 conv_dw_7_relu\n",
      "47 conv_pw_7\n",
      "48 conv_pw_7_bn\n",
      "49 conv_pw_7_relu\n",
      "50 conv_dw_8\n",
      "51 conv_dw_8_bn\n",
      "52 conv_dw_8_relu\n",
      "53 conv_pw_8\n",
      "54 conv_pw_8_bn\n",
      "55 conv_pw_8_relu\n",
      "56 conv_dw_9\n",
      "57 conv_dw_9_bn\n",
      "58 conv_dw_9_relu\n",
      "59 conv_pw_9\n",
      "60 conv_pw_9_bn\n",
      "61 conv_pw_9_relu\n",
      "62 conv_dw_10\n",
      "63 conv_dw_10_bn\n",
      "64 conv_dw_10_relu\n",
      "65 conv_pw_10\n",
      "66 conv_pw_10_bn\n",
      "67 conv_pw_10_relu\n",
      "68 conv_dw_11\n",
      "69 conv_dw_11_bn\n",
      "70 conv_dw_11_relu\n",
      "71 conv_pw_11\n",
      "72 conv_pw_11_bn\n",
      "73 conv_pw_11_relu\n",
      "74 conv_pad_12\n",
      "75 conv_dw_12\n",
      "76 conv_dw_12_bn\n",
      "77 conv_dw_12_relu\n",
      "78 conv_pw_12\n",
      "79 conv_pw_12_bn\n",
      "80 conv_pw_12_relu\n",
      "81 conv_dw_13\n",
      "82 conv_dw_13_bn\n",
      "83 conv_dw_13_relu\n",
      "84 conv_pw_13\n",
      "85 conv_pw_13_bn\n",
      "86 conv_pw_13_relu\n",
      "87 global_average_pooling2d_1\n",
      "88 dense\n",
      "89 dense_1\n",
      "90 dense_2\n",
      "91 dense_3\n"
     ]
    }
   ],
   "source": [
    "for i,layer in enumerate(model.layers):\n",
    "  print(i,layer.name)"
   ]
  },
  {
   "cell_type": "code",
   "execution_count": 8,
   "metadata": {},
   "outputs": [],
   "source": [
    "opt = SGD(lr=1e-4)\n",
    "model.compile(optimizer=opt,\n",
    "             loss='categorical_crossentropy',\n",
    "             metrics=['accuracy'])"
   ]
  },
  {
   "cell_type": "code",
   "execution_count": 9,
   "metadata": {},
   "outputs": [],
   "source": [
    "import tensorflow as tf"
   ]
  },
  {
   "cell_type": "code",
   "execution_count": 10,
   "metadata": {},
   "outputs": [],
   "source": [
    "callback=tf.keras.callbacks.EarlyStopping(monitor='accuracy',\n",
    "                                          min_delta=0,\n",
    "                                          patience=6,\n",
    "                                          verbose=1,\n",
    "                                          mode='auto',\n",
    "                                          restore_best_weights=True)"
   ]
  },
  {
   "cell_type": "code",
   "execution_count": 11,
   "metadata": {},
   "outputs": [
    {
     "name": "stdout",
     "output_type": "stream",
     "text": [
      "Epoch 1/200\n",
      "106/106 [==============================] - 533s 5s/step - loss: 1.8241 - accuracy: 0.1749 - val_loss: 1.8226 - val_accuracy: 0.1969\n",
      "Epoch 2/200\n",
      "106/106 [==============================] - 533s 5s/step - loss: 1.7442 - accuracy: 0.2408 - val_loss: 1.7937 - val_accuracy: 0.2106\n",
      "Epoch 3/200\n",
      "106/106 [==============================] - 494s 5s/step - loss: 1.6892 - accuracy: 0.3079 - val_loss: 1.7629 - val_accuracy: 0.2414\n",
      "Epoch 4/200\n",
      "106/106 [==============================] - 488s 5s/step - loss: 1.6522 - accuracy: 0.3658 - val_loss: 1.7294 - val_accuracy: 0.2997\n",
      "Epoch 5/200\n",
      "106/106 [==============================] - 488s 5s/step - loss: 1.6077 - accuracy: 0.4232 - val_loss: 1.6985 - val_accuracy: 0.3716\n",
      "Epoch 6/200\n",
      "106/106 [==============================] - 500s 5s/step - loss: 1.5707 - accuracy: 0.4687 - val_loss: 1.6692 - val_accuracy: 0.4110\n",
      "Epoch 7/200\n",
      "106/106 [==============================] - 490s 5s/step - loss: 1.5337 - accuracy: 0.5086 - val_loss: 1.6416 - val_accuracy: 0.4503\n",
      "Epoch 8/200\n",
      "106/106 [==============================] - 485s 5s/step - loss: 1.4928 - accuracy: 0.5396 - val_loss: 1.6142 - val_accuracy: 0.4743\n",
      "Epoch 9/200\n",
      "106/106 [==============================] - 496s 5s/step - loss: 1.4581 - accuracy: 0.5724 - val_loss: 1.5870 - val_accuracy: 0.4846\n",
      "Epoch 10/200\n",
      "106/106 [==============================] - 491s 5s/step - loss: 1.4192 - accuracy: 0.5919 - val_loss: 1.5600 - val_accuracy: 0.5017\n",
      "Epoch 11/200\n",
      "106/106 [==============================] - 486s 5s/step - loss: 1.3825 - accuracy: 0.6040 - val_loss: 1.5327 - val_accuracy: 0.5086\n",
      "Epoch 12/200\n",
      "106/106 [==============================] - 683s 6s/step - loss: 1.3443 - accuracy: 0.6336 - val_loss: 1.5064 - val_accuracy: 0.5120\n",
      "Epoch 13/200\n",
      "106/106 [==============================] - 938s 9s/step - loss: 1.3140 - accuracy: 0.6398 - val_loss: 1.4792 - val_accuracy: 0.5257\n",
      "Epoch 14/200\n",
      "106/106 [==============================] - 974s 9s/step - loss: 1.2769 - accuracy: 0.6472 - val_loss: 1.4529 - val_accuracy: 0.5394\n",
      "Epoch 15/200\n",
      "106/106 [==============================] - 1020s 10s/step - loss: 1.2432 - accuracy: 0.6622 - val_loss: 1.4268 - val_accuracy: 0.5514\n",
      "Epoch 16/200\n",
      "106/106 [==============================] - 988s 9s/step - loss: 1.2040 - accuracy: 0.6829 - val_loss: 1.4013 - val_accuracy: 0.5514\n",
      "Epoch 17/200\n",
      "106/106 [==============================] - 1375s 13s/step - loss: 1.1737 - accuracy: 0.6767 - val_loss: 1.3767 - val_accuracy: 0.5531\n",
      "Epoch 18/200\n",
      "106/106 [==============================] - 1418s 13s/step - loss: 1.1447 - accuracy: 0.6941 - val_loss: 1.3519 - val_accuracy: 0.5531\n",
      "Epoch 19/200\n",
      "106/106 [==============================] - 1379s 13s/step - loss: 1.1032 - accuracy: 0.7012 - val_loss: 1.3275 - val_accuracy: 0.5565\n",
      "Epoch 20/200\n",
      "106/106 [==============================] - 1332s 13s/step - loss: 1.0770 - accuracy: 0.7092 - val_loss: 1.3042 - val_accuracy: 0.5514\n",
      "Epoch 21/200\n",
      "106/106 [==============================] - 1354s 13s/step - loss: 1.0492 - accuracy: 0.7101 - val_loss: 1.2804 - val_accuracy: 0.5548\n",
      "Epoch 22/200\n",
      "106/106 [==============================] - 1333s 13s/step - loss: 1.0132 - accuracy: 0.7323 - val_loss: 1.2572 - val_accuracy: 0.5668\n",
      "Epoch 23/200\n",
      "106/106 [==============================] - 1299s 12s/step - loss: 0.9936 - accuracy: 0.7281 - val_loss: 1.2359 - val_accuracy: 0.5719\n",
      "Epoch 24/200\n",
      "106/106 [==============================] - 1279s 12s/step - loss: 0.9621 - accuracy: 0.7394 - val_loss: 1.2142 - val_accuracy: 0.5702\n",
      "Epoch 25/200\n",
      "106/106 [==============================] - 924s 9s/step - loss: 0.9384 - accuracy: 0.7470 - val_loss: 1.1934 - val_accuracy: 0.5771\n",
      "Epoch 26/200\n",
      "106/106 [==============================] - 873s 8s/step - loss: 0.9190 - accuracy: 0.7382 - val_loss: 1.1727 - val_accuracy: 0.5805\n",
      "Epoch 27/200\n",
      "106/106 [==============================] - 868s 8s/step - loss: 0.8880 - accuracy: 0.7530 - val_loss: 1.1528 - val_accuracy: 0.5873\n",
      "Epoch 28/200\n",
      "106/106 [==============================] - 864s 8s/step - loss: 0.8686 - accuracy: 0.7553 - val_loss: 1.1345 - val_accuracy: 0.5856\n",
      "Epoch 29/200\n",
      "106/106 [==============================] - 474s 4s/step - loss: 0.8447 - accuracy: 0.7603 - val_loss: 1.1167 - val_accuracy: 0.5856\n",
      "Epoch 30/200\n",
      "106/106 [==============================] - 474s 4s/step - loss: 0.8247 - accuracy: 0.7751 - val_loss: 1.0984 - val_accuracy: 0.5873\n",
      "Epoch 31/200\n",
      "106/106 [==============================] - 473s 4s/step - loss: 0.7987 - accuracy: 0.7728 - val_loss: 1.0809 - val_accuracy: 0.5908\n",
      "Epoch 32/200\n",
      "106/106 [==============================] - 473s 4s/step - loss: 0.7815 - accuracy: 0.7790 - val_loss: 1.0636 - val_accuracy: 0.5942\n",
      "Epoch 33/200\n",
      "106/106 [==============================] - 475s 4s/step - loss: 0.7629 - accuracy: 0.7831 - val_loss: 1.0486 - val_accuracy: 0.6027\n",
      "Epoch 34/200\n",
      "106/106 [==============================] - 473s 4s/step - loss: 0.7346 - accuracy: 0.7949 - val_loss: 1.0317 - val_accuracy: 0.6130\n",
      "Epoch 35/200\n",
      "106/106 [==============================] - 472s 4s/step - loss: 0.7206 - accuracy: 0.7970 - val_loss: 1.0154 - val_accuracy: 0.6130\n",
      "Epoch 36/200\n",
      "106/106 [==============================] - 472s 4s/step - loss: 0.7048 - accuracy: 0.8103 - val_loss: 1.0011 - val_accuracy: 0.6216\n",
      "Epoch 37/200\n",
      "106/106 [==============================] - 474s 4s/step - loss: 0.6872 - accuracy: 0.8038 - val_loss: 0.9859 - val_accuracy: 0.6284\n",
      "Epoch 38/200\n",
      "106/106 [==============================] - 473s 4s/step - loss: 0.6719 - accuracy: 0.8091 - val_loss: 0.9725 - val_accuracy: 0.6284\n",
      "Epoch 39/200\n",
      "106/106 [==============================] - 473s 4s/step - loss: 0.6590 - accuracy: 0.8124 - val_loss: 0.9589 - val_accuracy: 0.6336\n",
      "Epoch 40/200\n",
      "106/106 [==============================] - 475s 4s/step - loss: 0.6538 - accuracy: 0.8085 - val_loss: 0.9454 - val_accuracy: 0.6301\n",
      "Epoch 41/200\n",
      "106/106 [==============================] - 474s 4s/step - loss: 0.6351 - accuracy: 0.8177 - val_loss: 0.9330 - val_accuracy: 0.6301\n",
      "Epoch 42/200\n",
      "106/106 [==============================] - 473s 4s/step - loss: 0.6272 - accuracy: 0.8183 - val_loss: 0.9205 - val_accuracy: 0.6370\n",
      "Epoch 43/200\n",
      "106/106 [==============================] - 473s 4s/step - loss: 0.6030 - accuracy: 0.8387 - val_loss: 0.9075 - val_accuracy: 0.6404\n",
      "Epoch 44/200\n",
      "106/106 [==============================] - 473s 4s/step - loss: 0.6027 - accuracy: 0.8310 - val_loss: 0.8960 - val_accuracy: 0.6404\n",
      "Epoch 45/200\n",
      "106/106 [==============================] - 473s 4s/step - loss: 0.5857 - accuracy: 0.8280 - val_loss: 0.8846 - val_accuracy: 0.6473\n",
      "Epoch 46/200\n",
      "106/106 [==============================] - 474s 4s/step - loss: 0.5730 - accuracy: 0.8316 - val_loss: 0.8727 - val_accuracy: 0.6524\n",
      "Epoch 47/200\n",
      "106/106 [==============================] - 479s 5s/step - loss: 0.5695 - accuracy: 0.8327 - val_loss: 0.8632 - val_accuracy: 0.6541\n",
      "Epoch 48/200\n",
      "106/106 [==============================] - 474s 4s/step - loss: 0.5471 - accuracy: 0.8454 - val_loss: 0.8527 - val_accuracy: 0.6610\n",
      "Epoch 49/200\n",
      "106/106 [==============================] - 473s 4s/step - loss: 0.5400 - accuracy: 0.8493 - val_loss: 0.8419 - val_accuracy: 0.6627\n",
      "Epoch 50/200\n",
      "106/106 [==============================] - 473s 4s/step - loss: 0.5278 - accuracy: 0.8514 - val_loss: 0.8334 - val_accuracy: 0.6610\n",
      "Epoch 51/200\n",
      "106/106 [==============================] - 473s 4s/step - loss: 0.5112 - accuracy: 0.8585 - val_loss: 0.8254 - val_accuracy: 0.6644\n",
      "Epoch 52/200\n",
      "106/106 [==============================] - 475s 4s/step - loss: 0.5073 - accuracy: 0.8525 - val_loss: 0.8166 - val_accuracy: 0.6712\n",
      "Epoch 53/200\n",
      "106/106 [==============================] - 473s 4s/step - loss: 0.4971 - accuracy: 0.8558 - val_loss: 0.8070 - val_accuracy: 0.6798\n",
      "Epoch 54/200\n",
      "106/106 [==============================] - 472s 4s/step - loss: 0.4969 - accuracy: 0.8549 - val_loss: 0.7979 - val_accuracy: 0.6832\n",
      "Epoch 55/200\n",
      "106/106 [==============================] - 474s 4s/step - loss: 0.4850 - accuracy: 0.8582 - val_loss: 0.7893 - val_accuracy: 0.6884\n",
      "Epoch 56/200\n",
      "106/106 [==============================] - 474s 4s/step - loss: 0.4717 - accuracy: 0.8667 - val_loss: 0.7817 - val_accuracy: 0.6918\n",
      "Epoch 57/200\n",
      "106/106 [==============================] - 474s 4s/step - loss: 0.4630 - accuracy: 0.8679 - val_loss: 0.7735 - val_accuracy: 0.6952\n",
      "Epoch 58/200\n",
      "106/106 [==============================] - 475s 4s/step - loss: 0.4564 - accuracy: 0.8697 - val_loss: 0.7672 - val_accuracy: 0.6986\n",
      "Epoch 59/200\n",
      "106/106 [==============================] - 474s 4s/step - loss: 0.4531 - accuracy: 0.8720 - val_loss: 0.7600 - val_accuracy: 0.7021\n",
      "Epoch 60/200\n",
      "106/106 [==============================] - 475s 4s/step - loss: 0.4395 - accuracy: 0.8756 - val_loss: 0.7533 - val_accuracy: 0.7038\n",
      "Epoch 61/200\n",
      "106/106 [==============================] - 485s 5s/step - loss: 0.4362 - accuracy: 0.8756 - val_loss: 0.7463 - val_accuracy: 0.7072\n",
      "Epoch 62/200\n",
      "106/106 [==============================] - 485s 5s/step - loss: 0.4323 - accuracy: 0.8726 - val_loss: 0.7402 - val_accuracy: 0.7123\n",
      "Epoch 63/200\n",
      "106/106 [==============================] - 481s 5s/step - loss: 0.4329 - accuracy: 0.8738 - val_loss: 0.7325 - val_accuracy: 0.7140\n",
      "Epoch 64/200\n",
      "106/106 [==============================] - 474s 4s/step - loss: 0.4143 - accuracy: 0.8833 - val_loss: 0.7266 - val_accuracy: 0.7158\n",
      "Epoch 65/200\n",
      "106/106 [==============================] - 473s 4s/step - loss: 0.4187 - accuracy: 0.8765 - val_loss: 0.7202 - val_accuracy: 0.7192\n",
      "Epoch 66/200\n",
      "106/106 [==============================] - 473s 4s/step - loss: 0.4185 - accuracy: 0.8732 - val_loss: 0.7141 - val_accuracy: 0.7209\n",
      "Epoch 67/200\n",
      "106/106 [==============================] - 486s 5s/step - loss: 0.4083 - accuracy: 0.8836 - val_loss: 0.7088 - val_accuracy: 0.7192\n",
      "Epoch 68/200\n",
      "106/106 [==============================] - 491s 5s/step - loss: 0.3985 - accuracy: 0.8853 - val_loss: 0.7030 - val_accuracy: 0.7192\n",
      "Epoch 69/200\n",
      "106/106 [==============================] - 485s 5s/step - loss: 0.3958 - accuracy: 0.8865 - val_loss: 0.6988 - val_accuracy: 0.7243\n",
      "Epoch 70/200\n",
      "106/106 [==============================] - 482s 5s/step - loss: 0.3896 - accuracy: 0.8880 - val_loss: 0.6923 - val_accuracy: 0.7260\n",
      "Epoch 71/200\n",
      "106/106 [==============================] - 475s 4s/step - loss: 0.3807 - accuracy: 0.8945 - val_loss: 0.6879 - val_accuracy: 0.7260\n",
      "Epoch 72/200\n",
      "106/106 [==============================] - 473s 4s/step - loss: 0.3695 - accuracy: 0.8966 - val_loss: 0.6830 - val_accuracy: 0.7277\n",
      "Epoch 73/200\n",
      "106/106 [==============================] - 473s 4s/step - loss: 0.3630 - accuracy: 0.9016 - val_loss: 0.6791 - val_accuracy: 0.7329\n",
      "Epoch 74/200\n",
      "106/106 [==============================] - 473s 4s/step - loss: 0.3634 - accuracy: 0.8960 - val_loss: 0.6740 - val_accuracy: 0.7380\n",
      "Epoch 75/200\n",
      "106/106 [==============================] - 481s 5s/step - loss: 0.3617 - accuracy: 0.8892 - val_loss: 0.6704 - val_accuracy: 0.7380\n",
      "Epoch 76/200\n",
      "106/106 [==============================] - 485s 5s/step - loss: 0.3512 - accuracy: 0.8969 - val_loss: 0.6650 - val_accuracy: 0.7397\n",
      "Epoch 77/200\n",
      "106/106 [==============================] - 490s 5s/step - loss: 0.3549 - accuracy: 0.8978 - val_loss: 0.6622 - val_accuracy: 0.7397\n",
      "Epoch 78/200\n",
      "106/106 [==============================] - 479s 5s/step - loss: 0.3534 - accuracy: 0.8924 - val_loss: 0.6569 - val_accuracy: 0.7397\n",
      "Epoch 79/200\n",
      "106/106 [==============================] - ETA: 0s - loss: 0.3399 - accuracy: 0.8989Restoring model weights from the end of the best epoch.\n",
      "106/106 [==============================] - 476s 4s/step - loss: 0.3399 - accuracy: 0.8989 - val_loss: 0.6548 - val_accuracy: 0.7380\n",
      "Epoch 00079: early stopping\n"
     ]
    }
   ],
   "source": [
    "history = model.fit(x=train_generator, \n",
    "                 validation_data=validation_generator,\n",
    "                 epochs=200,\n",
    "                 verbose=1,\n",
    "                 callbacks=[callback])"
   ]
  },
  {
   "cell_type": "code",
   "execution_count": 12,
   "metadata": {},
   "outputs": [
    {
     "data": {
      "image/png": "[encoded data removed]",
      "text/plain": [
       "<Figure size 432x288 with 1 Axes>"
      ]
     },
     "metadata": {
      "needs_background": "light"
     },
     "output_type": "display_data"
    }
   ],
   "source": [
    "acc = history.history['accuracy']\n",
    "val_acc = history.history['val_accuracy']\n",
    "epochs = range(len(acc))\n",
    "plt.plot(history.history['accuracy'])\n",
    "plt.plot(history.history['val_accuracy'])\n",
    "plt.title('model accuracy')\n",
    "plt.ylabel('accuracy')\n",
    "plt.xlabel('epoch')\n",
    "plt.legend(['train', 'val'], loc='upper left')\n",
    "plt.show()"
   ]
  },
  {
   "cell_type": "code",
   "execution_count": 13,
   "metadata": {},
   "outputs": [
    {
     "data": {
      "image/png": "[encoded data removed]",
      "text/plain": [
       "<Figure size 432x288 with 1 Axes>"
      ]
     },
     "metadata": {
      "needs_background": "light"
     },
     "output_type": "display_data"
    }
   ],
   "source": [
    "acc = history.history['loss']\n",
    "val_loss = history.history['val_loss']\n",
    "epochs = range(len(acc))\n",
    "plt.plot(history.history['loss'])\n",
    "plt.plot(history.history['val_loss'])\n",
    "plt.title('loss')\n",
    "plt.ylabel('loss')\n",
    "plt.xlabel('epoch')\n",
    "plt.legend(['loss', 'val loss'], loc='upper left')\n",
    "plt.show()"
   ]
  },
  {
   "cell_type": "code",
   "execution_count": 14,
   "metadata": {},
   "outputs": [],
   "source": [
    "import numpy as np\n",
    "from sklearn.metrics import classification_report, confusion_matrix, plot_confusion_matrix\n",
    "import seaborn as sns\n",
    "import pandas as pd"
   ]
  },
  {
   "cell_type": "code",
   "execution_count": 15,
   "metadata": {},
   "outputs": [
    {
     "name": "stdout",
     "output_type": "stream",
     "text": [
      "              precision    recall  f1-score   support\n",
      "\n",
      "           0       0.75      0.82      0.78        22\n",
      "           1       0.70      0.83      0.76        23\n",
      "           2       0.74      0.96      0.83        26\n",
      "           3       1.00      0.33      0.50        24\n",
      "           4       0.65      0.87      0.74        23\n",
      "           5       0.73      0.52      0.61        21\n",
      "\n",
      "    accuracy                           0.73       139\n",
      "   macro avg       0.76      0.72      0.70       139\n",
      "weighted avg       0.76      0.73      0.71       139\n",
      "\n"
     ]
    }
   ],
   "source": [
    "# ambil label true kelas di data training\n",
    "y_true = test_generator.classes\n",
    "\n",
    "# ambil label hasil prediksi (index maksimum, secara kolom)\n",
    "y_pred = np.argmax(model.predict(test_generator), axis=-1)\n",
    "\n",
    "# performa model di \n",
    "print(classification_report(y_true, y_pred))"
   ]
  },
  {
   "cell_type": "code",
   "execution_count": 16,
   "metadata": {},
   "outputs": [
    {
     "data": {
      "text/html": [
       "<div>\n",
       "<style scoped>\n",
       "    .dataframe tbody tr th:only-of-type {\n",
       "        vertical-align: middle;\n",
       "    }\n",
       "\n",
       "    .dataframe tbody tr th {\n",
       "        vertical-align: top;\n",
       "    }\n",
       "\n",
       "    .dataframe thead th {\n",
       "        text-align: right;\n",
       "    }\n",
       "</style>\n",
       "<table border=\"1\" class=\"dataframe\">\n",
       "  <thead>\n",
       "    <tr style=\"text-align: right;\">\n",
       "      <th>Predicted</th>\n",
       "      <th>0</th>\n",
       "      <th>1</th>\n",
       "      <th>2</th>\n",
       "      <th>3</th>\n",
       "      <th>4</th>\n",
       "      <th>5</th>\n",
       "    </tr>\n",
       "    <tr>\n",
       "      <th>Actual</th>\n",
       "      <th></th>\n",
       "      <th></th>\n",
       "      <th></th>\n",
       "      <th></th>\n",
       "      <th></th>\n",
       "      <th></th>\n",
       "    </tr>\n",
       "  </thead>\n",
       "  <tbody>\n",
       "    <tr>\n",
       "      <th>0</th>\n",
       "      <td>18</td>\n",
       "      <td>4</td>\n",
       "      <td>0</td>\n",
       "      <td>0</td>\n",
       "      <td>0</td>\n",
       "      <td>0</td>\n",
       "    </tr>\n",
       "    <tr>\n",
       "      <th>1</th>\n",
       "      <td>2</td>\n",
       "      <td>19</td>\n",
       "      <td>1</td>\n",
       "      <td>0</td>\n",
       "      <td>0</td>\n",
       "      <td>1</td>\n",
       "    </tr>\n",
       "    <tr>\n",
       "      <th>2</th>\n",
       "      <td>0</td>\n",
       "      <td>1</td>\n",
       "      <td>25</td>\n",
       "      <td>0</td>\n",
       "      <td>0</td>\n",
       "      <td>0</td>\n",
       "    </tr>\n",
       "    <tr>\n",
       "      <th>3</th>\n",
       "      <td>0</td>\n",
       "      <td>0</td>\n",
       "      <td>5</td>\n",
       "      <td>8</td>\n",
       "      <td>9</td>\n",
       "      <td>2</td>\n",
       "    </tr>\n",
       "    <tr>\n",
       "      <th>4</th>\n",
       "      <td>0</td>\n",
       "      <td>0</td>\n",
       "      <td>2</td>\n",
       "      <td>0</td>\n",
       "      <td>20</td>\n",
       "      <td>1</td>\n",
       "    </tr>\n",
       "    <tr>\n",
       "      <th>5</th>\n",
       "      <td>4</td>\n",
       "      <td>3</td>\n",
       "      <td>1</td>\n",
       "      <td>0</td>\n",
       "      <td>2</td>\n",
       "      <td>11</td>\n",
       "    </tr>\n",
       "  </tbody>\n",
       "</table>\n",
       "</div>"
      ],
      "text/plain": [
       "Predicted   0   1   2  3   4   5\n",
       "Actual                          \n",
       "0          18   4   0  0   0   0\n",
       "1           2  19   1  0   0   1\n",
       "2           0   1  25  0   0   0\n",
       "3           0   0   5  8   9   2\n",
       "4           0   0   2  0  20   1\n",
       "5           4   3   1  0   2  11"
      ]
     },
     "execution_count": 16,
     "metadata": {},
     "output_type": "execute_result"
    }
   ],
   "source": [
    "cm = pd.DataFrame(confusion_matrix(y_true, y_pred)).rename_axis('Actual').rename_axis('Predicted', axis=1)\n",
    "cm"
   ]
  },
  {
   "cell_type": "code",
   "execution_count": 17,
   "metadata": {},
   "outputs": [
    {
     "data": {
      "text/plain": [
       "<matplotlib.axes._subplots.AxesSubplot at 0x19982df3b50>"
      ]
     },
     "execution_count": 17,
     "metadata": {},
     "output_type": "execute_result"
    },
    {
     "data": {
      "image/png": "[encoded data removed]",
      "text/plain": [
       "<Figure size 432x288 with 2 Axes>"
      ]
     },
     "metadata": {
      "needs_background": "light"
     },
     "output_type": "display_data"
    }
   ],
   "source": [
    "sns.heatmap(cm, annot=True, fmt=\".1%\")"
   ]
  },
  {
   "cell_type": "code",
   "execution_count": null,
   "metadata": {},
   "outputs": [],
   "source": []
  }
 ],
 "metadata": {
  "kernelspec": {
   "display_name": "Python 3",
   "language": "python",
   "name": "python3"
  },
  "language_info": {
   "codemirror_mode": {
    "name": "ipython",
    "version": 3
   },
   "file_extension": ".py",
   "mimetype": "text/x-python",
   "name": "python",
   "nbconvert_exporter": "python",
   "pygments_lexer": "ipython3",
   "version": "3.8.3"
  }
 },
 "nbformat": 4,
 "nbformat_minor": 4
}
